{
 "cells": [
  {
   "cell_type": "markdown",
   "metadata": {},
   "source": [
    "# <font size=\"15\"> Python #9 </font>\n",
    "## Table of Contents:     \n",
    "1. [Functions](#section2)  \n",
    "    1.1 [Define Statements](#section2.1)   \n",
    " \n",
    " \n",
    "## Contact:\n",
    "Email: [Hailey Tran](mailto:hailey.tran@berkeley.edu) \n",
    "\n",
    "\n",
    "\n",
    "After today you will know how to:\n",
    "1. Create your own functions \n",
    "\n"
   ]
  },
  {
   "cell_type": "markdown",
   "metadata": {},
   "source": [
    "<a id='section2'></a>\n",
    "# Part 1: Functions"
   ]
  },
  {
   "cell_type": "markdown",
   "metadata": {},
   "source": [
    "Remember how we used functions to modify lists and to print things? We can now make our own functions and tell them what to do! "
   ]
  },
  {
   "cell_type": "markdown",
   "metadata": {},
   "source": [
    "<a id='section2.1'></a>\n",
    "### 1.1 Define Statements\n",
    "\n",
    "\n",
    "If we wanted to perform a specific process on many different inputs that will then produce distinct outputs, we write a **function**.\n",
    "\n",
    "- Writing a function is a lot like creating your own machine: it takes in an input, does a certain process to it, and then produces an output.\n",
    "- The input, which can also be called the argument or paramter, is put between parenthesis.\n",
    "- You create a function using a define statement \n",
    "\n",
    "The form of a define statement is below:"
   ]
  },
  {
   "cell_type": "code",
   "execution_count": null,
   "metadata": {},
   "outputs": [],
   "source": [
    "# This code is only a skeleton. It will error if you run it.\n",
    "\n",
    "def <function name>(<parameters>):\n",
    "    block of code\n",
    "    return <statement>"
   ]
  },
  {
   "cell_type": "markdown",
   "metadata": {},
   "source": [
    "Just like If/else statements, for loops, and while loops, the body of the define statement is indicated by the indentation."
   ]
  },
  {
   "cell_type": "markdown",
   "metadata": {},
   "source": [
    "Take a look at an example below! Try running the cell below after changing the parameter."
   ]
  },
  {
   "cell_type": "code",
   "execution_count": null,
   "metadata": {},
   "outputs": [],
   "source": [
    "# Add a comment here on what your code is doing \n",
    "def hello(name):\n",
    "    return \"Hello \" + name + \"!\"\n",
    "\n",
    "# Replace 'name' with your name. Run the cell afterward.\n",
    "hello(...)"
   ]
  },
  {
   "cell_type": "markdown",
   "metadata": {},
   "source": [
    "Look at how I transform this if/else statement into its own function below."
   ]
  },
  {
   "cell_type": "code",
   "execution_count": null,
   "metadata": {},
   "outputs": [],
   "source": [
    "#takes in two int arguments and returns if x is smaller,bigger, or equal to y\n",
    "\n",
    "x = 10\n",
    "y = 3\n",
    "\n",
    "if x > y:\n",
    "    print(\"x bigger\")\n",
    "elif x < y:\n",
    "    print(\"x smaller\")\n",
    "else:\n",
    "    print(\"same\")"
   ]
  },
  {
   "cell_type": "code",
   "execution_count": null,
   "metadata": {},
   "outputs": [],
   "source": [
    "#takes in two int arguments and returns if x is smaller,bigger, or equal to y\n",
    "\n",
    "def x_size(x,y):\n",
    "    if x > y:\n",
    "        print(\"x bigger\")\n",
    "    elif x < y:\n",
    "        print(\"x smaller\")\n",
    "    else:\n",
    "        print(\"same\")\n",
    "\n",
    "x_size(10,3)"
   ]
  },
  {
   "cell_type": "markdown",
   "metadata": {},
   "source": [
    "To use your function, **call** it by typing the function out and adding your customized parameter.\n",
    "\n",
    "**Exercise 1.1.1** Write a function called 'square' that takes in a number as the argument and returns the square of that number. For example, an argument of 4 should return 16.\n"
   ]
  },
  {
   "cell_type": "code",
   "execution_count": null,
   "metadata": {},
   "outputs": [],
   "source": [
    "#add your own comment here \n",
    "# replace the ...\n",
    "\n",
    "...\n",
    "\n",
    "square(4)"
   ]
  },
  {
   "cell_type": "markdown",
   "metadata": {},
   "source": [
    "**Exercise 1.1.2** Given a list of numbers as the argument, write a function called `list_add` that sums up all the elements from that list."
   ]
  },
  {
   "cell_type": "code",
   "execution_count": null,
   "metadata": {},
   "outputs": [],
   "source": [
    "#add comment\n",
    "\n",
    "\n",
    "\n",
    "\n",
    "list_add([2.1,3,4,164.9,23.5])"
   ]
  },
  {
   "cell_type": "markdown",
   "metadata": {},
   "source": [
    "Functions can also have more than one argument. Look at the example below!"
   ]
  },
  {
   "cell_type": "code",
   "execution_count": null,
   "metadata": {},
   "outputs": [],
   "source": [
    "#Run this cell \n",
    "def sum_two_numbers(a, b):\n",
    "    return a + b\n",
    "\n",
    "sum_two_numbers(2, 11)"
   ]
  },
  {
   "cell_type": "markdown",
   "metadata": {},
   "source": [
    "**Exercise 1.1.3** Write a function called 'multiply' that takes in three numbers and returns those three numbers multiplied by each other. "
   ]
  },
  {
   "cell_type": "code",
   "execution_count": null,
   "metadata": {},
   "outputs": [],
   "source": [
    "#replace the ...\n",
    "...\n",
    "\n",
    "multiply(2,3,4)"
   ]
  }
 ],
 "metadata": {
  "kernelspec": {
   "display_name": "Python 3",
   "language": "python",
   "name": "python3"
  },
  "language_info": {
   "codemirror_mode": {
    "name": "ipython",
    "version": 3
   },
   "file_extension": ".py",
   "mimetype": "text/x-python",
   "name": "python",
   "nbconvert_exporter": "python",
   "pygments_lexer": "ipython3",
   "version": "3.6.11"
  }
 },
 "nbformat": 4,
 "nbformat_minor": 4
}
